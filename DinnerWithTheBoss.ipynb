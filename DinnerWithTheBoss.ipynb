{
  "nbformat": 4,
  "nbformat_minor": 0,
  "metadata": {
    "colab": {
      "name": "DinnerWithTheBoss.ipynb",
      "provenance": [],
      "authorship_tag": "ABX9TyOOP0fkpznbbrgGWHlG5YW9",
      "include_colab_link": true
    },
    "kernelspec": {
      "name": "python3",
      "display_name": "Python 3"
    }
  },
  "cells": [
    {
      "cell_type": "markdown",
      "metadata": {
        "id": "view-in-github",
        "colab_type": "text"
      },
      "source": [
        "<a href=\"https://colab.research.google.com/github/cschellenberger/Analysis-Fundamentals/blob/master/DinnerWithTheBoss.ipynb\" target=\"_parent\"><img src=\"https://colab.research.google.com/assets/colab-badge.svg\" alt=\"Open In Colab\"/></a>"
      ]
    },
    {
      "cell_type": "code",
      "metadata": {
        "id": "MR6WKKNBcBJ6",
        "colab_type": "code",
        "colab": {}
      },
      "source": [
        "import matplotlib.pyplot as plt\n",
        "import numpy as np\n",
        "import pandas as pd"
      ],
      "execution_count": 0,
      "outputs": []
    },
    {
      "cell_type": "markdown",
      "metadata": {
        "id": "zSiwak1zNUi0",
        "colab_type": "text"
      },
      "source": [
        "# Stakeholder Analysis"
      ]
    },
    {
      "cell_type": "code",
      "metadata": {
        "id": "DwHWSg2cneex",
        "colab_type": "code",
        "colab": {}
      },
      "source": [
        "plt.rcParams['figure.figsize'] = (14, 8)\n",
        "plt.style.use('seaborn-whitegrid')"
      ],
      "execution_count": 0,
      "outputs": []
    },
    {
      "cell_type": "code",
      "metadata": {
        "id": "xMWZhJl1zrJ3",
        "colab_type": "code",
        "colab": {}
      },
      "source": [
        "%matplotlib inline\n",
        "%config InlineBackend.figure_format='retina'"
      ],
      "execution_count": 0,
      "outputs": []
    },
    {
      "cell_type": "code",
      "metadata": {
        "id": "Frl6Uu3McFGq",
        "colab_type": "code",
        "colab": {}
      },
      "source": [
        "stakeholders = pd.read_csv(\"https://schellenbergers3bucket.s3-us-west-2.amazonaws.com/DinnerWithTheBoss_Stakeholders+-+Sheet1.csv\")"
      ],
      "execution_count": 0,
      "outputs": []
    },
    {
      "cell_type": "code",
      "metadata": {
        "id": "LdURNJIUdivh",
        "colab_type": "code",
        "outputId": "c955a522-168a-4794-9e53-a12a86f5319f",
        "colab": {
          "base_uri": "https://localhost:8080/",
          "height": 323
        }
      },
      "source": [
        "stakeholders.head()"
      ],
      "execution_count": 0,
      "outputs": [
        {
          "output_type": "execute_result",
          "data": {
            "text/html": [
              "<div>\n",
              "<style scoped>\n",
              "    .dataframe tbody tr th:only-of-type {\n",
              "        vertical-align: middle;\n",
              "    }\n",
              "\n",
              "    .dataframe tbody tr th {\n",
              "        vertical-align: top;\n",
              "    }\n",
              "\n",
              "    .dataframe thead th {\n",
              "        text-align: right;\n",
              "    }\n",
              "</style>\n",
              "<table border=\"1\" class=\"dataframe\">\n",
              "  <thead>\n",
              "    <tr style=\"text-align: right;\">\n",
              "      <th></th>\n",
              "      <th>ID</th>\n",
              "      <th>Stakeholder</th>\n",
              "      <th>Needs</th>\n",
              "      <th>Influence</th>\n",
              "      <th>Importance</th>\n",
              "      <th>Influence (1-5)</th>\n",
              "      <th>Importance (1-5)</th>\n",
              "    </tr>\n",
              "  </thead>\n",
              "  <tbody>\n",
              "    <tr>\n",
              "      <th>0</th>\n",
              "      <td>1</td>\n",
              "      <td>Weaver</td>\n",
              "      <td>Impress boss; Have a unique dinner party; Keep...</td>\n",
              "      <td>Validate and select the solutions presented by...</td>\n",
              "      <td>Weaver is central to the success of the dinner...</td>\n",
              "      <td>5</td>\n",
              "      <td>3</td>\n",
              "    </tr>\n",
              "    <tr>\n",
              "      <th>1</th>\n",
              "      <td>2</td>\n",
              "      <td>Boss</td>\n",
              "      <td>Attend the dinner party; Have clear communicat...</td>\n",
              "      <td>The boss needs to attend to have a successful ...</td>\n",
              "      <td>Almost every need that we can identify for the...</td>\n",
              "      <td>2</td>\n",
              "      <td>5</td>\n",
              "    </tr>\n",
              "    <tr>\n",
              "      <th>2</th>\n",
              "      <td>3</td>\n",
              "      <td>Me</td>\n",
              "      <td>Gather information related to the guests and t...</td>\n",
              "      <td>Provide adequate, logical, and reasonable anal...</td>\n",
              "      <td>If our needs are not met, the guests could sti...</td>\n",
              "      <td>4</td>\n",
              "      <td>1</td>\n",
              "    </tr>\n",
              "    <tr>\n",
              "      <th>3</th>\n",
              "      <td>4</td>\n",
              "      <td>Other guests (IT Leadership)</td>\n",
              "      <td>Attend the dinner party; Have clear communicat...</td>\n",
              "      <td>The guests need to attend to have a successful...</td>\n",
              "      <td>Almost every need we can identify for the gues...</td>\n",
              "      <td>2</td>\n",
              "      <td>4</td>\n",
              "    </tr>\n",
              "    <tr>\n",
              "      <th>4</th>\n",
              "      <td>5</td>\n",
              "      <td>KEG Waitress/Waiter (status quo)</td>\n",
              "      <td>Tips from regular customers; Accurate informat...</td>\n",
              "      <td>The waiter/waitress is essential as the interf...</td>\n",
              "      <td>If they do a good job, it is important that We...</td>\n",
              "      <td>3</td>\n",
              "      <td>2</td>\n",
              "    </tr>\n",
              "  </tbody>\n",
              "</table>\n",
              "</div>"
            ],
            "text/plain": [
              "   ID                       Stakeholder  ... Influence (1-5) Importance (1-5)\n",
              "0   1                            Weaver  ...               5                3\n",
              "1   2                              Boss  ...               2                5\n",
              "2   3                                Me  ...               4                1\n",
              "3   4      Other guests (IT Leadership)  ...               2                4\n",
              "4   5  KEG Waitress/Waiter (status quo)  ...               3                2\n",
              "\n",
              "[5 rows x 7 columns]"
            ]
          },
          "metadata": {
            "tags": []
          },
          "execution_count": 5
        }
      ]
    },
    {
      "cell_type": "code",
      "metadata": {
        "id": "mNZ4yssQnYyz",
        "colab_type": "code",
        "colab": {}
      },
      "source": [
        "influence = np.array(stakeholders.iloc[:,5])\n",
        "importance = np.array(stakeholders.iloc[:,6])"
      ],
      "execution_count": 0,
      "outputs": []
    },
    {
      "cell_type": "code",
      "metadata": {
        "id": "RBXmTsu3d_MH",
        "colab_type": "code",
        "outputId": "0376180b-3b00-4ab4-a0b4-6b1dda2f697e",
        "colab": {
          "base_uri": "https://localhost:8080/",
          "height": 492
        }
      },
      "source": [
        "stakeholders.plot(x=\"Influence (1-5)\", y=\"Importance (1-5)\", kind='scatter', figsize=(14,8))\n",
        "for x, y, label in zip(np.array(stakeholders.iloc[:,5]), np.array(stakeholders.iloc[:,6]), np.array(stakeholders.iloc[:,1])):\n",
        "    plt.annotate(label, (x, y), fontsize=10, alpha=0.75)"
      ],
      "execution_count": 0,
      "outputs": [
        {
          "output_type": "display_data",
          "data": {
            "image/png": "[encoded data removed]",
            "text/plain": [
              "<Figure size 1008x576 with 1 Axes>"
            ]
          },
          "metadata": {
            "tags": [],
            "image/png": {
              "width": 818,
              "height": 475
            }
          }
        }
      ]
    },
    {
      "cell_type": "code",
      "metadata": {
        "id": "2dTklBCIzvZa",
        "colab_type": "code",
        "colab": {}
      },
      "source": [
        ""
      ],
      "execution_count": 0,
      "outputs": []
    },
    {
      "cell_type": "markdown",
      "metadata": {
        "id": "rAgIh7XrNg87",
        "colab_type": "text"
      },
      "source": [
        "# Data Analysis"
      ]
    },
    {
      "cell_type": "markdown",
      "metadata": {
        "id": "dgfLmMWucgB3",
        "colab_type": "text"
      },
      "source": [
        "## Conditional Variables\n",
        "### Number of Guests\n",
        "The number of guests could change based on scheduling issues or the parameters of the dinner plans. By assigning this variable early, the number of guests can be changed and it will provide new costs within the function output."
      ]
    },
    {
      "cell_type": "code",
      "metadata": {
        "id": "uRK2p0AYSui-",
        "colab_type": "code",
        "colab": {}
      },
      "source": [
        "number_of_guests = 8"
      ],
      "execution_count": 0,
      "outputs": []
    },
    {
      "cell_type": "markdown",
      "metadata": {
        "id": "WhIDkRtXdJWZ",
        "colab_type": "text"
      },
      "source": [
        "## Raw Data\n",
        "This data is taken from the case study directly. The data is clustered by solution (KEG, Catering, Cooking, and Delivery)."
      ]
    },
    {
      "cell_type": "code",
      "metadata": {
        "id": "PIMpbQ8xNkWL",
        "colab_type": "code",
        "outputId": "53f1ea8b-e26f-4e23-c18a-453919a92171",
        "colab": {
          "base_uri": "https://localhost:8080/",
          "height": 35
        }
      },
      "source": [
        "keg_steak_shrimp = 32.95\n",
        "keg_salad = 13.49\n",
        "keg_dessert = 6.50\n",
        "keg_wine = 8.50\n",
        "\n",
        "catering_dinner = 16.99\n",
        "catering_service = 60.00\n",
        "catering_plating = 6.00\n",
        "\n",
        "# wine is added to catering, cooking, and delivery scenarios\n",
        "wine_low = 9.75\n",
        "wine_mid = 18.99\n",
        "wine_high = 49.99\n",
        "\n",
        "cooking_steak_16oz = 29.99\n",
        "cooking_shrimp_60_70 = 12.97 # highest cost scenario is if there are 60/pack\n",
        "cooking_salad_4_servings = 8.95\n",
        "cooking_cake_16_servings = 22.95\n",
        "\n",
        "print(\"assumption: One serving of shrimp is 5 shrimp\")\n",
        "\n",
        "skip_steak = 10.49\n",
        "skip_salad_4_servings = 8.99\n",
        "skip_dessert = 4.99\n",
        "skip_delivery = 8.00"
      ],
      "execution_count": 0,
      "outputs": [
        {
          "output_type": "stream",
          "text": [
            "assumption: One serving of shrimp is 5 shrimp\n"
          ],
          "name": "stdout"
        }
      ]
    },
    {
      "cell_type": "markdown",
      "metadata": {
        "id": "fv0Z_BC7dkoZ",
        "colab_type": "text"
      },
      "source": [
        "## Conversions\n",
        "These calculations adjust the units of various data points to ensure that calculations are relevant and accurate. The standard communication unit in this analysis will be the **serving**."
      ]
    },
    {
      "cell_type": "code",
      "metadata": {
        "id": "QhkL5Ra0NqBA",
        "colab_type": "code",
        "outputId": "947d5b93-2fb4-4827-8601-2180101cb94c",
        "colab": {
          "base_uri": "https://localhost:8080/",
          "height": 52
        }
      },
      "source": [
        "ounces_to_millimeters = 29.574\n",
        "\n",
        "bottle_ounces = 750 / ounces_to_millimeters\n",
        "print(\"Number of ounces per bottle: \", round(bottle_ounces, 2))\n",
        "\n",
        "servings_per_bottle = bottle_ounces / 6  # 6oz serving size\n",
        "print(\"Number of wine servings per bottle: \", round(servings_per_bottle, 2))"
      ],
      "execution_count": 0,
      "outputs": [
        {
          "output_type": "stream",
          "text": [
            "Number of ounces per bottle:  25.36\n",
            "Number of wine servings per bottle:  4.23\n"
          ],
          "name": "stdout"
        }
      ]
    },
    {
      "cell_type": "markdown",
      "metadata": {
        "id": "lopRN_aPfO9l",
        "colab_type": "text"
      },
      "source": [
        "## KEG Restaurant Solution"
      ]
    },
    {
      "cell_type": "code",
      "metadata": {
        "id": "7eh3naAmNqLL",
        "colab_type": "code",
        "outputId": "16e720d1-3783-486f-9d2e-30788c26647d",
        "colab": {
          "base_uri": "https://localhost:8080/",
          "height": 121
        }
      },
      "source": [
        "keg_serving_price = (keg_steak_shrimp +\n",
        "                    keg_salad +\n",
        "                    keg_dessert +\n",
        "                    keg_wine)\n",
        "\n",
        "print(\"The KEG serving price is:\\n\\n\", \"$\", \n",
        "      round(keg_serving_price, 2), sep=\"\")\n",
        "print(\"The KEG serving price with 18% gratuity is:\\n\\n\",\n",
        "      \"$\", round(keg_serving_price * 1.18, 2), sep=\"\")"
      ],
      "execution_count": 0,
      "outputs": [
        {
          "output_type": "stream",
          "text": [
            "The KEG serving price is:\n",
            "\n",
            "$61.44\n",
            "The KEG serving price with 18% gratuity is:\n",
            "\n",
            "$72.5\n"
          ],
          "name": "stdout"
        }
      ]
    },
    {
      "cell_type": "markdown",
      "metadata": {
        "id": "QEUsmgu5fUlE",
        "colab_type": "text"
      },
      "source": [
        "## Catering Solution"
      ]
    },
    {
      "cell_type": "code",
      "metadata": {
        "id": "B4-Y6BAPNqTz",
        "colab_type": "code",
        "outputId": "9ec555bc-ec91-42aa-94d7-bff54f761d6e",
        "colab": {
          "base_uri": "https://localhost:8080/",
          "height": 156
        }
      },
      "source": [
        "catering_serving_price = (catering_dinner +\n",
        "                         (catering_service / number_of_guests) +\n",
        "                         catering_plating)\n",
        "\n",
        "print(\"The catering serving price is:\\n\")\n",
        "\n",
        "for quality, price in [(\"low quality\", wine_low), \n",
        "                       (\"mid quality\", wine_mid), \n",
        "                       (\"high quality\", wine_high)]:\n",
        "\n",
        "\twine_cost = price / servings_per_bottle\n",
        "\n",
        "\tprint(quality, \" wine: \\n$\", \n",
        "       round(catering_serving_price + wine_cost, 2), sep=\"\")"
      ],
      "execution_count": 0,
      "outputs": [
        {
          "output_type": "stream",
          "text": [
            "The catering serving price is:\n",
            "\n",
            "low quality wine: \n",
            "$32.8\n",
            "mid quality wine: \n",
            "$34.98\n",
            "high quality wine: \n",
            "$42.32\n"
          ],
          "name": "stdout"
        }
      ]
    },
    {
      "cell_type": "markdown",
      "metadata": {
        "id": "aF_7uF8gfXtk",
        "colab_type": "text"
      },
      "source": [
        "## Cooking at Home Solution"
      ]
    },
    {
      "cell_type": "code",
      "metadata": {
        "id": "M6CErncmQRD7",
        "colab_type": "code",
        "outputId": "b8758616-9a1c-458d-d2df-df5ccaab7f15",
        "colab": {
          "base_uri": "https://localhost:8080/",
          "height": 52
        }
      },
      "source": [
        "cooking_steak_serving_number = 16 / 6  # 6oz serving size\n",
        "print(\"number of servings from one 16oz steak,\", \n",
        "      round(cooking_steak_serving_number, 2))\n",
        "\n",
        "print(\"assumption: The butcher can prepare 6oz steaks\")"
      ],
      "execution_count": 0,
      "outputs": [
        {
          "output_type": "stream",
          "text": [
            "number of servings from one 16oz steak, 2.67\n",
            "assumption: The butcher can prepare 6oz steaks\n"
          ],
          "name": "stdout"
        }
      ]
    },
    {
      "cell_type": "code",
      "metadata": {
        "id": "GjJ-hZdcUq4g",
        "colab_type": "code",
        "outputId": "681e657e-2ada-4f12-e4da-8da9fa2f3f84",
        "colab": {
          "base_uri": "https://localhost:8080/",
          "height": 35
        }
      },
      "source": [
        "cooking_steak_price = cooking_steak_16oz / cooking_steak_serving_number\n",
        "print(\"Cooking steak serving price is, \", \"$\", \n",
        "      round(cooking_steak_price, 2), sep=\"\")"
      ],
      "execution_count": 0,
      "outputs": [
        {
          "output_type": "stream",
          "text": [
            "Cooking steak serving price is, $11.25\n"
          ],
          "name": "stdout"
        }
      ]
    },
    {
      "cell_type": "code",
      "metadata": {
        "id": "Cq8V2Zt5ZY1g",
        "colab_type": "code",
        "outputId": "ba155a42-a75c-48df-c4e1-6794336114f3",
        "colab": {
          "base_uri": "https://localhost:8080/",
          "height": 35
        }
      },
      "source": [
        "cooking_shrimp_serving_number = 60 / 5  # 5 shrimp serving size\n",
        "print(\"number of servings from one shrimp package is at minimum,\", \n",
        "      round(cooking_shrimp_serving_number, 2))"
      ],
      "execution_count": 0,
      "outputs": [
        {
          "output_type": "stream",
          "text": [
            "number of servings from one shrimp package is at minimum, 12.0\n"
          ],
          "name": "stdout"
        }
      ]
    },
    {
      "cell_type": "code",
      "metadata": {
        "id": "zA1Zx3f0aQGb",
        "colab_type": "code",
        "outputId": "806d19eb-5d5f-44c4-e9ea-64b3702f3e2e",
        "colab": {
          "base_uri": "https://localhost:8080/",
          "height": 35
        }
      },
      "source": [
        "leftover_shrimp = (cooking_shrimp_serving_number - number_of_guests) * 5\n",
        "\n",
        "print(\"assumption: The number of leftover shrimp is approximately, \", \n",
        "      leftover_shrimp)"
      ],
      "execution_count": 0,
      "outputs": [
        {
          "output_type": "stream",
          "text": [
            "assumption: The number of leftover shrimp is approximately,  20.0\n"
          ],
          "name": "stdout"
        }
      ]
    },
    {
      "cell_type": "code",
      "metadata": {
        "id": "zIHvuZQba5M1",
        "colab_type": "code",
        "outputId": "ca1dde25-8316-42ae-a98c-a849e84f894d",
        "colab": {
          "base_uri": "https://localhost:8080/",
          "height": 35
        }
      },
      "source": [
        "cooking_shrimp_price = cooking_shrimp_60_70 / cooking_shrimp_serving_number\n",
        "print(\"Cooking shrimp serving price is, \", \"$\", \n",
        "      round(cooking_shrimp_price, 2), sep=\"\")"
      ],
      "execution_count": 0,
      "outputs": [
        {
          "output_type": "stream",
          "text": [
            "Cooking shrimp serving price is, $1.08\n"
          ],
          "name": "stdout"
        }
      ]
    },
    {
      "cell_type": "code",
      "metadata": {
        "id": "NuSaYCrgbpTh",
        "colab_type": "code",
        "outputId": "55cd312a-b889-4309-a6a8-768bf564cf04",
        "colab": {
          "base_uri": "https://localhost:8080/",
          "height": 277
        }
      },
      "source": [
        "cooking_serving_price = (cooking_steak_price + \n",
        "                         cooking_shrimp_price + \n",
        "                         (cooking_salad_4_servings/4) + \n",
        "                         (cooking_cake_16_servings/16))\n",
        "print(\"Cooking at home scenarios: \\n\\n\")\n",
        "for quality, price in [(\"low quality\", wine_low), \n",
        "                       (\"mid quality\", wine_mid), \n",
        "                       (\"high quality\", wine_high)]:\n",
        "\n",
        "\twine_cost = price / servings_per_bottle\n",
        "\n",
        "\tprint(quality, \" wine: \\n$\", \n",
        "       round(cooking_serving_price + wine_cost, 2), sep=\"\")\n",
        " \n",
        "print(\"\\n\\nCooking at home serving price is, \", \"$\", \n",
        "      round(cooking_serving_price, 2))\n",
        "\n",
        "print(\"\\nassumptions: Weaver can cook, \\\n",
        "has cooking supplies, and has generic ingredients. \\\n",
        "\\nThere is up to a $36.00 fixed cost for shrimp \\\n",
        "and cake if less than 16 people attend\")"
      ],
      "execution_count": 0,
      "outputs": [
        {
          "output_type": "stream",
          "text": [
            "Cooking at home scenarios: \n",
            "\n",
            "\n",
            "low quality wine: \n",
            "$18.31\n",
            "mid quality wine: \n",
            "$20.49\n",
            "high quality wine: \n",
            "$27.83\n",
            "\n",
            "\n",
            "Cooking at home serving price is,  $ 16.0\n",
            "\n",
            "assumptions: Weaver can cook, has cooking supplies, and has generic ingredients. \n",
            "There is up to a $36.00 fixed cost for shrimp and cake if less than 16 people attend\n"
          ],
          "name": "stdout"
        }
      ]
    },
    {
      "cell_type": "markdown",
      "metadata": {
        "id": "nQt43JBwfcE7",
        "colab_type": "text"
      },
      "source": [
        "## Delivery Solution"
      ]
    },
    {
      "cell_type": "code",
      "metadata": {
        "id": "xpMoi3eccjBz",
        "colab_type": "code",
        "outputId": "85c0af65-6752-498e-b0a4-e0a6f1b126b6",
        "colab": {
          "base_uri": "https://localhost:8080/",
          "height": 225
        }
      },
      "source": [
        "delivery_serving_price = (skip_steak + \n",
        "                          (skip_salad_4_servings/4) + \n",
        "                          skip_dessert)\n",
        "\n",
        "print(\"Delivery scenarios: \\n\\n\")\n",
        "for quality, price in [(\"low quality\", wine_low), \n",
        "                       (\"mid quality\", wine_mid), \n",
        "                       (\"high quality\", wine_high)]:\n",
        "\n",
        "\twine_cost = price / servings_per_bottle\n",
        "\n",
        "\tprint(quality, \" wine: \\n$\", \n",
        "       round(delivery_serving_price + wine_cost, 2), sep=\"\")\n",
        " \n",
        "print(\"\\n\\nDelivery serving price is, \", \"$\", \n",
        "      round(delivery_serving_price, 2), sep=\"\")"
      ],
      "execution_count": 0,
      "outputs": [
        {
          "output_type": "stream",
          "text": [
            "Delivery scenarios: \n",
            "\n",
            "\n",
            "low quality wine: \n",
            "$20.03\n",
            "mid quality wine: \n",
            "$22.22\n",
            "high quality wine: \n",
            "$29.55\n",
            "\n",
            "\n",
            "Delivery serving price is, $17.73\n"
          ],
          "name": "stdout"
        }
      ]
    },
    {
      "cell_type": "code",
      "metadata": {
        "id": "M44JfBqkDT0_",
        "colab_type": "code",
        "outputId": "ae937c73-8c8e-41b6-8d2f-95ed58414f8f",
        "colab": {
          "base_uri": "https://localhost:8080/",
          "height": 277
        }
      },
      "source": [
        "delivery_withTip_price = delivery_serving_price * 1.15\n",
        "\n",
        "print(\"Delivery with 15% gratuity scenarios: \\n\\n\")\n",
        "for quality, price in [(\"low quality\", wine_low), \n",
        "                       (\"mid quality\", wine_mid), \n",
        "                       (\"high quality\", wine_high)]:\n",
        "\n",
        "\twine_cost = price / servings_per_bottle\n",
        "\n",
        "\tprint(quality, \" wine: \\n$\", \n",
        "       round(delivery_withTip_price + wine_cost, 2), sep=\"\")\n",
        "\n",
        "print(\"\\n\\nDelivery serving price with 15% gratuity is, \", \"$\", \n",
        "      round(delivery_withTip_price, 2), sep=\"\")\n",
        "\n",
        "print(\"\\nassumptions: There is no shrimp in this scenario. \\\n",
        "\\n Delivery drivers who do not recieve tips, struggle to make a living.\")"
      ],
      "execution_count": 0,
      "outputs": [
        {
          "output_type": "stream",
          "text": [
            "Delivery with 15% gratuity scenarios: \n",
            "\n",
            "\n",
            "low quality wine: \n",
            "$22.69\n",
            "mid quality wine: \n",
            "$24.88\n",
            "high quality wine: \n",
            "$32.21\n",
            "\n",
            "\n",
            "Delivery serving price with 15% gratuity is, $20.39\n",
            "\n",
            "assumptions: There is no shrimp in this scenario. \n",
            " Delivery drivers who do not recieve tips, struggle to make a living.\n"
          ],
          "name": "stdout"
        }
      ]
    },
    {
      "cell_type": "code",
      "metadata": {
        "id": "naupNRAqebMG",
        "colab_type": "code",
        "colab": {}
      },
      "source": [
        ""
      ],
      "execution_count": 0,
      "outputs": []
    }
  ]
}
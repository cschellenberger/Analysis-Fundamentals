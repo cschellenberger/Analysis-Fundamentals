{
 "cells": [
  {
   "cell_type": "markdown",
   "metadata": {},
   "source": [
    "Imagine you have a friend called B. They have just returned to the office from The Coffee Shop, carrying a usual 16 oz., double-double. They see you and stop to chat. “Did you notice that they raised the coffee prices? It’s now \\\\$2.15 plus tax for a large coffee. I was already stressed about how much I’m spending. Some friends just helped me figure out that I spend \\\\$180 a month on coffee.  Now it will be even more. I can't give up coffee. But I don't know how I can afford it.\" You say, “Have you considered other options? For example, you could make your own coffee.\" \"I suppose I could,” says B, “but would it be much of a saving? Coffee is expensive. And don't forget the sugar and cream.\" \n",
    "\n",
    "You tell B that you’ll help them examine several options to determine if it's possible for them to reduce their monthly coffee costs and still maintain the habit. B currently buys three 16 oz. cups from The Coffee Shop every day. They typically add 1 tablespoon of cream and 2 teaspoons of sugar to each cup.  \n",
    "\n",
    "### You and B decide to examine and compare the following options. \n",
    "\n",
    "Option Number | Description\n",
    "------------- | -----------\n",
    "1 | The status quo: continue to purchase three 16 oz. cups of coffee daily from The Coffee Shop\n",
    "2 | Buy a single serving Keurig coffee machine to use at work and use single serving K-cups (prefilled with coffee) \n",
    "3 | Buy a single serving Keurig coffee machine and a reusable Keurig single-serving filter that can be filled with regular ground coffee\n",
    "4 | Buy a regular 12 cup drip coffee maker and use paper filters and regular ground coffee"
   ]
  },
  {
   "cell_type": "markdown",
   "metadata": {},
   "source": [
    "Items | Prices\n",
    "----- | ------\n",
    "12 (6 oz.) cup programmable coffee maker* | 39.96\n",
    "Coffee filters (100 pack) | 3.49\n",
    "Keurig coffee maker – 1 cup (6 oz.) mini brewer | 58.00\n",
    "Reusable filter for Keurig Coffee brewer | 19.76\n",
    "1 Litre stainless steel thermos | 29.99\n",
    "Van Houtte Dark Roast K-cups (30 servings)** | 19.97\n",
    "Van Houtte Dark Roast (340 g) | 10.49\n",
    "White sugar (4 kg) | 6.99\n",
    "Coffee cream (1 litre) | 1.99\n"
   ]
  },
  {
   "cell_type": "markdown",
   "metadata": {},
   "source": [
    "Conversions | __________\n",
    "----------- | ----------\n",
    "1 tablespoon | 14.76 ml\n",
    "1 teaspoon | 1/3 tablespoon\n",
    "1 litre | 1000 ml\n",
    "1 kilogram | 1000 grams\n",
    "1 tablespoon sugar | 12.5 grams\n"
   ]
  },
  {
   "cell_type": "markdown",
   "metadata": {},
   "source": [
    "*Coffee making instructions (applies to both drip and reusable filter k cup methods)\n",
    "\n",
    "- Use 2 tbsp (10 g) of coffee for every 6 oz (175 ml) of cold water\n",
    "\n",
    "**Van Houtte Dark Roast coffee was selected, because it is what B buys from The Coffee Shop\n"
   ]
  },
  {
   "cell_type": "markdown",
   "metadata": {},
   "source": [
    "# Section A05\n",
    "### B is concerned that the 48 oz. consumed in a day has rose to \\\\$2.15, while B is concerned with their current budget of \\\\$180/month. B wants to figure out the price difference in a 1-year time period without sacrificing quality or quantity between making their own coffee or just buying their coffee from the coffee shop."
   ]
  },
  {
   "cell_type": "code",
   "execution_count": 1,
   "metadata": {},
   "outputs": [],
   "source": [
    "# Import the necessary packages\n",
    "import pandas as pd\n",
    "import matplotlib.pyplot as plt"
   ]
  },
  {
   "cell_type": "code",
   "execution_count": 2,
   "metadata": {},
   "outputs": [],
   "source": [
    "%matplotlib inline\n",
    "%config InlineBackend.figure_format='retina'\n",
    "\n",
    "plt.rcParams['figure.figsize'] = (14, 8)\n",
    "plt.style.use('seaborn-whitegrid')"
   ]
  },
  {
   "cell_type": "markdown",
   "metadata": {},
   "source": [
    "# Prior to the price increase"
   ]
  },
  {
   "cell_type": "code",
   "execution_count": 3,
   "metadata": {},
   "outputs": [
    {
     "name": "stdout",
     "output_type": "stream",
     "text": [
      "The number of cups per month that B drinks is: \n",
      " 90.0\n"
     ]
    }
   ],
   "source": [
    "previous_cost = 2.00\n",
    "monthly_cost = 180\n",
    "\n",
    "print('The number of cups per month that B drinks is: \\n', monthly_cost / previous_cost)"
   ]
  },
  {
   "cell_type": "markdown",
   "metadata": {},
   "source": [
    "# Variables, Calculations, and Conversions"
   ]
  },
  {
   "cell_type": "code",
   "execution_count": 4,
   "metadata": {},
   "outputs": [],
   "source": [
    "# Assign variables for price, volume, and quantity\n",
    "cups_per_month = 90\n",
    "keurig_coffee_maker = 58.0\n",
    "thirty_k_cups = 19.97\n",
    "white_sugar_4kg = 6.99\n",
    "coffee_cream_1litre = 1.99"
   ]
  },
  {
   "cell_type": "code",
   "execution_count": 5,
   "metadata": {},
   "outputs": [
    {
     "name": "stdout",
     "output_type": "stream",
     "text": [
      "At the new price, B will spend: \n",
      " 193.5\n"
     ]
    }
   ],
   "source": [
    "new_monthly_cost = cups_per_month * 2.15\n",
    "\n",
    "print(\"At the new price, B will spend: \\n\", new_monthly_cost)"
   ]
  },
  {
   "cell_type": "code",
   "execution_count": 6,
   "metadata": {},
   "outputs": [
    {
     "name": "stdout",
     "output_type": "stream",
     "text": [
      "B will have to invest 13.5 more each month.\n"
     ]
    }
   ],
   "source": [
    "cost_difference_monthly = new_monthly_cost - monthly_cost\n",
    "\n",
    "print(\"B will have to invest\", cost_difference_monthly, \"more each month.\")"
   ]
  },
  {
   "cell_type": "code",
   "execution_count": 7,
   "metadata": {},
   "outputs": [
    {
     "name": "stdout",
     "output_type": "stream",
     "text": [
      "The price per gram of white sugar is: 0.0017475000000000001\n",
      "The price per millilitre of cream is: 0.00199\n"
     ]
    }
   ],
   "source": [
    "white_sugar_per_gram = 6.99 / 4000\n",
    "coffee_cream_ml = 1.99 / 1000\n",
    "\n",
    "print('The price per gram of white sugar is:', white_sugar_per_gram)\n",
    "print('The price per millilitre of cream is:', coffee_cream_ml)"
   ]
  },
  {
   "cell_type": "code",
   "execution_count": 8,
   "metadata": {},
   "outputs": [
    {
     "name": "stdout",
     "output_type": "stream",
     "text": [
      "per cup, B uses 14.76 milliliters of cream\n",
      "per cup, B uses 8.333333333333332 grams of sugar\n"
     ]
    }
   ],
   "source": [
    "millilitres_of_cream_cup = 14.76\n",
    "grams_of_sugar_cup = (2 / 3) * 12.5\n",
    "\n",
    "print('per cup, B uses', millilitres_of_cream_cup, 'milliliters of cream')\n",
    "print('per cup, B uses', grams_of_sugar_cup, 'grams of sugar')"
   ]
  },
  {
   "cell_type": "code",
   "execution_count": 9,
   "metadata": {},
   "outputs": [
    {
     "name": "stdout",
     "output_type": "stream",
     "text": [
      "The number of milliliters per fluid ounce is 29.166666666666668\n"
     ]
    }
   ],
   "source": [
    "ml_per_oz = 175 / 6\n",
    "\n",
    "print(\"The number of milliliters per fluid ounce is\", ml_per_oz)"
   ]
  },
  {
   "cell_type": "markdown",
   "metadata": {},
   "source": [
    "# Option 1"
   ]
  },
  {
   "cell_type": "code",
   "execution_count": 10,
   "metadata": {},
   "outputs": [],
   "source": [
    "ml_of_coffee_option_1 = 16 * ml_per_oz"
   ]
  },
  {
   "cell_type": "code",
   "execution_count": 11,
   "metadata": {},
   "outputs": [],
   "source": [
    "number_of_ml_per_day = ml_of_coffee_option_1 * 3"
   ]
  },
  {
   "cell_type": "code",
   "execution_count": 12,
   "metadata": {},
   "outputs": [
    {
     "name": "stdout",
     "output_type": "stream",
     "text": [
      "The number of mL that B drinks per day on the status quo is: \n",
      " 1400.0\n"
     ]
    }
   ],
   "source": [
    "print(\"The number of mL that B drinks per day on the status quo is: \\n\", number_of_ml_per_day)"
   ]
  },
  {
   "cell_type": "code",
   "execution_count": 13,
   "metadata": {},
   "outputs": [],
   "source": [
    "cost_per_ml = 2.15 / ml_of_coffee_option_1"
   ]
  },
  {
   "cell_type": "code",
   "execution_count": 14,
   "metadata": {},
   "outputs": [],
   "source": [
    "cost_per_ml_previously = 2.00 / ml_of_coffee_option_1"
   ]
  },
  {
   "cell_type": "code",
   "execution_count": 15,
   "metadata": {},
   "outputs": [
    {
     "name": "stdout",
     "output_type": "stream",
     "text": [
      "The cost (dollars) per mL for option 1 is: \n",
      " 0.0046071428571428565\n"
     ]
    }
   ],
   "source": [
    "print('The cost (dollars) per mL for option 1 is: \\n', cost_per_ml)"
   ]
  },
  {
   "cell_type": "code",
   "execution_count": 16,
   "metadata": {},
   "outputs": [],
   "source": [
    "initial_investment_option_1 = 0"
   ]
  },
  {
   "cell_type": "markdown",
   "metadata": {},
   "source": [
    "# Option 2"
   ]
  },
  {
   "cell_type": "code",
   "execution_count": 17,
   "metadata": {},
   "outputs": [
    {
     "name": "stdout",
     "output_type": "stream",
     "text": [
      "The cost per mL of using k-cups is: \n",
      " 0.0038038095238095235\n"
     ]
    }
   ],
   "source": [
    "cost_per_k_cup_serving = 19.97 / 30\n",
    "mL_per_k_cup_serving = 6 * ml_per_oz\n",
    "cost_per_mL_k_cups = cost_per_k_cup_serving / mL_per_k_cup_serving\n",
    "print(\"The cost per mL of using k-cups is: \\n\", cost_per_mL_k_cups)"
   ]
  },
  {
   "cell_type": "code",
   "execution_count": 18,
   "metadata": {},
   "outputs": [
    {
     "name": "stdout",
     "output_type": "stream",
     "text": [
      "The cost of sugar per 16oz cup is: \n",
      " 0.014562499999999999\n",
      "The cost of cream per 16oz cup is: \n",
      " 0.0293724\n"
     ]
    }
   ],
   "source": [
    "sugar_cost_per_cup = grams_of_sugar_cup * white_sugar_per_gram\n",
    "cream_cost_per_cup = millilitres_of_cream_cup * coffee_cream_ml\n",
    "\n",
    "print(\"The cost of sugar per 16oz cup is: \\n\", sugar_cost_per_cup)\n",
    "print(\"The cost of cream per 16oz cup is: \\n\", cream_cost_per_cup)"
   ]
  },
  {
   "cell_type": "code",
   "execution_count": 19,
   "metadata": {},
   "outputs": [
    {
     "name": "stdout",
     "output_type": "stream",
     "text": [
      "The cost of sugar per mL is: \n",
      " 3.120535714285714e-05\n",
      "The cost of cream per mL is: \n",
      " 6.294085714285714e-05\n"
     ]
    }
   ],
   "source": [
    "sugar_cost_per_mL = sugar_cost_per_cup / (16 * ml_per_oz)\n",
    "cream_cost_per_mL = cream_cost_per_cup / (16 * ml_per_oz)\n",
    "\n",
    "print(\"The cost of sugar per mL is: \\n\", sugar_cost_per_mL)\n",
    "print(\"The cost of cream per mL is: \\n\", cream_cost_per_mL)"
   ]
  },
  {
   "cell_type": "code",
   "execution_count": 20,
   "metadata": {},
   "outputs": [
    {
     "name": "stdout",
     "output_type": "stream",
     "text": [
      "The cost per mL for option 2 is: \n",
      " 0.003897955738095238\n",
      "The cost of the coffee maker is: 58.00\n"
     ]
    }
   ],
   "source": [
    "option_2_cost_per_mL = cost_per_mL_k_cups + sugar_cost_per_mL + cream_cost_per_mL\n",
    "\n",
    "print(\"The cost per mL for option 2 is: \\n\", option_2_cost_per_mL)\n",
    "print(\"The cost of the coffee maker is: 58.00\")"
   ]
  },
  {
   "cell_type": "code",
   "execution_count": 21,
   "metadata": {},
   "outputs": [],
   "source": [
    "initial_investment_option_2 = 58.00"
   ]
  },
  {
   "cell_type": "markdown",
   "metadata": {},
   "source": [
    "# Option 3"
   ]
  },
  {
   "cell_type": "code",
   "execution_count": 22,
   "metadata": {},
   "outputs": [
    {
     "name": "stdout",
     "output_type": "stream",
     "text": [
      "coffee grounds cost B 0.0017630252100840336 per mL\n"
     ]
    }
   ],
   "source": [
    "coffee_grounds_cost_per_g = 10.49 / 340\n",
    "grams_per_mL = 10 / 175\n",
    "coffee_grounds_cost_per_mL = coffee_grounds_cost_per_g * grams_per_mL\n",
    "print(\"coffee grounds cost B\", coffee_grounds_cost_per_mL, \"per mL\")"
   ]
  },
  {
   "cell_type": "code",
   "execution_count": 23,
   "metadata": {},
   "outputs": [
    {
     "name": "stdout",
     "output_type": "stream",
     "text": [
      "The cost per mL for option 3 is: \n",
      " 0.001857171424369748\n",
      "The cost of the coffee maker is: 58.00\n",
      "The cost of the reusable filter is: 19.76\n",
      "The cost of the thermos is: 29.99\n"
     ]
    }
   ],
   "source": [
    "option_3_cost_per_mL = coffee_grounds_cost_per_mL + sugar_cost_per_mL + cream_cost_per_mL\n",
    "print(\"The cost per mL for option 3 is: \\n\", option_3_cost_per_mL)\n",
    "print(\"The cost of the coffee maker is: 58.00\")\n",
    "print(\"The cost of the reusable filter is: 19.76\")\n",
    "print(\"The cost of the thermos is: 29.99\")"
   ]
  },
  {
   "cell_type": "code",
   "execution_count": 24,
   "metadata": {},
   "outputs": [],
   "source": [
    "initial_investment_option_3 = 58.0 + 19.76 + 29.99"
   ]
  },
  {
   "cell_type": "markdown",
   "metadata": {},
   "source": [
    "# Option 4"
   ]
  },
  {
   "cell_type": "code",
   "execution_count": 25,
   "metadata": {},
   "outputs": [
    {
     "name": "stdout",
     "output_type": "stream",
     "text": [
      "The cost of filters per mL is: 7.478571428571429e-05\n"
     ]
    }
   ],
   "source": [
    "cost_of_filters_per_cup = 3.49 / 100\n",
    "cost_of_filters_per_mL = cost_of_filters_per_cup / (16 * ml_per_oz)\n",
    "print(\"The cost of filters per mL is:\", cost_of_filters_per_mL)"
   ]
  },
  {
   "cell_type": "code",
   "execution_count": 26,
   "metadata": {},
   "outputs": [
    {
     "name": "stdout",
     "output_type": "stream",
     "text": [
      "The cost per mL for option 4 is: \n",
      " 0.0019319571386554623\n",
      "The cost of the coffee maker is: 39.96\n",
      "The cost of the thermos is: 29.99\n"
     ]
    }
   ],
   "source": [
    "option_4_cost_per_mL = coffee_grounds_cost_per_mL + sugar_cost_per_mL + cream_cost_per_mL + cost_of_filters_per_mL\n",
    "print(\"The cost per mL for option 4 is: \\n\", option_4_cost_per_mL)\n",
    "print(\"The cost of the coffee maker is: 39.96\")\n",
    "print(\"The cost of the thermos is: 29.99\")"
   ]
  },
  {
   "cell_type": "code",
   "execution_count": 27,
   "metadata": {},
   "outputs": [],
   "source": [
    "initial_investment_option_4 = 39.96 + 29.99"
   ]
  },
  {
   "cell_type": "code",
   "execution_count": 28,
   "metadata": {},
   "outputs": [
    {
     "data": {
      "text/plain": [
       "{'Option 1': (0.0046071428571428565, 0),\n",
       " 'Option 2': (0.003897955738095238, 58.0),\n",
       " 'Option 3': (0.001857171424369748, 107.75),\n",
       " 'Option 4': (0.0019319571386554623, 69.95),\n",
       " 'Previously': (0.004285714285714286, 0)}"
      ]
     },
     "execution_count": 28,
     "metadata": {},
     "output_type": "execute_result"
    }
   ],
   "source": [
    "options = {\"Option 1\": (cost_per_ml, initial_investment_option_1), \n",
    "           \"Option 2\": (option_2_cost_per_mL, initial_investment_option_2), \n",
    "           \"Option 3\": (option_3_cost_per_mL, initial_investment_option_3), \n",
    "           \"Option 4\": (option_4_cost_per_mL, initial_investment_option_4),\n",
    "           \"Previously\":(cost_per_ml_previously, initial_investment_option_1)}\n",
    "\n",
    "options"
   ]
  },
  {
   "cell_type": "code",
   "execution_count": 29,
   "metadata": {},
   "outputs": [
    {
     "name": "stdout",
     "output_type": "stream",
     "text": [
      "B's coffee spending difference with status quo per day is: \n",
      " 0.44999999999999885\n"
     ]
    }
   ],
   "source": [
    "increased_spending_over_previous = options['Option 1'][0] - options['Previously'][0]\n",
    "savings_per_day_option1_vs_previous = increased_spending_over_previous * number_of_ml_per_day\n",
    "print(\"B's coffee spending difference with status quo per day is: \\n\", savings_per_day_option1_vs_previous)"
   ]
  },
  {
   "cell_type": "code",
   "execution_count": 30,
   "metadata": {},
   "outputs": [
    {
     "name": "stdout",
     "output_type": "stream",
     "text": [
      "58.41698236737108\n"
     ]
    }
   ],
   "source": [
    "savings_of_option2 = options['Option 1'][0] - options['Option 2'][0]\n",
    "number_of_days_before_savings_option_2 = options['Option 2'][1] / (savings_of_option2 * number_of_ml_per_day)\n",
    "print(number_of_days_before_savings_option_2)"
   ]
  },
  {
   "cell_type": "code",
   "execution_count": 31,
   "metadata": {},
   "outputs": [
    {
     "name": "stdout",
     "output_type": "stream",
     "text": [
      "27.987303721433168\n"
     ]
    }
   ],
   "source": [
    "savings_of_option3 = options['Option 1'][0] - options['Option 3'][0]\n",
    "number_of_days_before_savings_option_3 = options['Option 3'][1] / (savings_of_option3 * number_of_ml_per_day)\n",
    "print(number_of_days_before_savings_option_3)"
   ]
  },
  {
   "cell_type": "code",
   "execution_count": 32,
   "metadata": {},
   "outputs": [
    {
     "name": "stdout",
     "output_type": "stream",
     "text": [
      "18.676940957406337\n"
     ]
    }
   ],
   "source": [
    "savings_of_option4 = options['Option 1'][0] - options['Option 4'][0]\n",
    "number_of_days_before_savings_option_4 = options['Option 4'][1] / (savings_of_option4 * number_of_ml_per_day)\n",
    "print(number_of_days_before_savings_option_4)"
   ]
  },
  {
   "cell_type": "code",
   "execution_count": 33,
   "metadata": {},
   "outputs": [
    {
     "data": {
      "text/plain": [
       "{'Option 1': 0.0,\n",
       " 'Option 2': 58.41698236737108,\n",
       " 'Option 3': 27.987303721433168,\n",
       " 'Option 4': 18.676940957406337}"
      ]
     },
     "execution_count": 33,
     "metadata": {},
     "output_type": "execute_result"
    }
   ],
   "source": [
    "investments = {'Option 1': 0.0, \n",
    "               'Option 2': number_of_days_before_savings_option_2, \n",
    "               'Option 3': number_of_days_before_savings_option_3, \n",
    "               'Option 4': number_of_days_before_savings_option_4}\n",
    "\n",
    "investments"
   ]
  },
  {
   "cell_type": "code",
   "execution_count": 34,
   "metadata": {},
   "outputs": [],
   "source": [
    "options_df = pd.DataFrame(options)"
   ]
  },
  {
   "cell_type": "code",
   "execution_count": 35,
   "metadata": {},
   "outputs": [
    {
     "data": {
      "text/html": [
       "<div>\n",
       "<style scoped>\n",
       "    .dataframe tbody tr th:only-of-type {\n",
       "        vertical-align: middle;\n",
       "    }\n",
       "\n",
       "    .dataframe tbody tr th {\n",
       "        vertical-align: top;\n",
       "    }\n",
       "\n",
       "    .dataframe thead th {\n",
       "        text-align: right;\n",
       "    }\n",
       "</style>\n",
       "<table border=\"1\" class=\"dataframe\">\n",
       "  <thead>\n",
       "    <tr style=\"text-align: right;\">\n",
       "      <th></th>\n",
       "      <th>Option 1</th>\n",
       "      <th>Option 2</th>\n",
       "      <th>Option 3</th>\n",
       "      <th>Option 4</th>\n",
       "      <th>Previously</th>\n",
       "    </tr>\n",
       "  </thead>\n",
       "  <tbody>\n",
       "    <tr>\n",
       "      <th>0</th>\n",
       "      <td>0.004607</td>\n",
       "      <td>0.003898</td>\n",
       "      <td>0.001857</td>\n",
       "      <td>0.001932</td>\n",
       "      <td>0.004286</td>\n",
       "    </tr>\n",
       "    <tr>\n",
       "      <th>1</th>\n",
       "      <td>0.000000</td>\n",
       "      <td>58.000000</td>\n",
       "      <td>107.750000</td>\n",
       "      <td>69.950000</td>\n",
       "      <td>0.000000</td>\n",
       "    </tr>\n",
       "  </tbody>\n",
       "</table>\n",
       "</div>"
      ],
      "text/plain": [
       "   Option 1   Option 2    Option 3   Option 4  Previously\n",
       "0  0.004607   0.003898    0.001857   0.001932    0.004286\n",
       "1  0.000000  58.000000  107.750000  69.950000    0.000000"
      ]
     },
     "execution_count": 35,
     "metadata": {},
     "output_type": "execute_result"
    }
   ],
   "source": [
    "options_df"
   ]
  },
  {
   "cell_type": "code",
   "execution_count": 36,
   "metadata": {},
   "outputs": [],
   "source": [
    "cost_per_ml_series = options_df.iloc[0]*1000"
   ]
  },
  {
   "cell_type": "code",
   "execution_count": 37,
   "metadata": {},
   "outputs": [
    {
     "data": {
      "text/plain": [
       "<matplotlib.axes._subplots.AxesSubplot at 0x11bbcf2e8>"
      ]
     },
     "execution_count": 37,
     "metadata": {},
     "output_type": "execute_result"
    },
    {
     "data": {
      "image/png": "[encoded data removed]",
      "text/plain": [
       "<Figure size 864x576 with 1 Axes>"
      ]
     },
     "metadata": {
      "image/png": {
       "height": 490,
       "width": 733
      }
     },
     "output_type": "display_data"
    }
   ],
   "source": [
    "cost_per_ml_series.plot(kind='barh', \n",
    "                        figsize=(12,8), \n",
    "                        title=\"The cost per mL of the 4 options\\nin 10ths of a cent\")"
   ]
  },
  {
   "cell_type": "code",
   "execution_count": 38,
   "metadata": {},
   "outputs": [],
   "source": [
    "investments_df = pd.DataFrame(investments, index=[0])"
   ]
  },
  {
   "cell_type": "code",
   "execution_count": 39,
   "metadata": {},
   "outputs": [],
   "source": [
    "investments_series = investments_df.iloc[0]"
   ]
  },
  {
   "cell_type": "code",
   "execution_count": 40,
   "metadata": {},
   "outputs": [
    {
     "data": {
      "text/plain": [
       "<matplotlib.axes._subplots.AxesSubplot at 0x11be63978>"
      ]
     },
     "execution_count": 40,
     "metadata": {},
     "output_type": "execute_result"
    },
    {
     "data": {
      "image/png": "[encoded data removed]",
      "text/plain": [
       "<Figure size 864x576 with 1 Axes>"
      ]
     },
     "metadata": {
      "image/png": {
       "height": 490,
       "width": 725
      }
     },
     "output_type": "display_data"
    }
   ],
   "source": [
    "investments_series.plot(kind='barh', \n",
    "                        figsize=(12,8),\n",
    "                        title=\"Number of days till initial investment\\nis paid off\")"
   ]
  },
  {
   "cell_type": "code",
   "execution_count": null,
   "metadata": {},
   "outputs": [],
   "source": []
  }
 ],
 "metadata": {
  "kernelspec": {
   "display_name": "Python 3",
   "language": "python",
   "name": "python3"
  },
  "language_info": {
   "codemirror_mode": {
    "name": "ipython",
    "version": 3
   },
   "file_extension": ".py",
   "mimetype": "text/x-python",
   "name": "python",
   "nbconvert_exporter": "python",
   "pygments_lexer": "ipython3",
   "version": "3.6.7"
  }
 },
 "nbformat": 4,
 "nbformat_minor": 2
}
